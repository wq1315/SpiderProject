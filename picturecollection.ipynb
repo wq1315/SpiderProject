{
 "cells": [
  {
   "cell_type": "code",
   "execution_count": 3,
   "metadata": {},
   "outputs": [],
   "source": [
    "import requests\n",
    "import os\n",
    "import sqlite3\n",
    "import re\n",
    "class picturecollect:\n",
    "    def __init__(self):\n",
    "        #返回当前路径\n",
    "        self.root = self.__class__.setrootpath(self)\n",
    "        self.url = 'https://unsplash.com/napi/photos?page=3&per_page=100'\n",
    "        #链接sqlite3数据库\n",
    "        self.conn = sqlite3.connect('..\\df\\test.db')\n",
    "        self.table = self.__class__.createtable(self)\n",
    "    #创建数据表\n",
    "    def createtable(self):\n",
    "        cur = self.conn.cursor()\n",
    "        try:\n",
    "            cur.execute('''\n",
    "            create table picture(\n",
    "            id integer primary key autoincrement,\n",
    "            file_link  text,\n",
    "            file_path  text     \n",
    "            )\n",
    "            ''')\n",
    "        except:\n",
    "            print(\"已经创建数据表picture\")\n",
    "        return 0\n",
    "    #删除数据表\n",
    "    def droptable(self):\n",
    "        cur = self.conn.cursor()\n",
    "        cur.execute(\"drop table picture\")\n",
    "    def setrootpath(self):\n",
    "        rootpath = os.path.join(os.getcwd(),'picture')\n",
    "        debug = os.path.exists(rootpath)\n",
    "        if debug:\n",
    "            #如果存在文件夹则不执行操作\n",
    "            pass\n",
    "        else:\n",
    "            #如果不存在根文件夹则创建根目录\n",
    "            os.makedirs(rootpath)\n",
    "        return rootpath\n",
    "    #下载文件方法\n",
    "    def download_pic(self,file_name,url):\n",
    "            u = requests.get(url)\n",
    "            block_sz = 8192\n",
    "            with open(file_name, 'wb') as fd:\n",
    "                for chunk in u.iter_content(block_sz):\n",
    "                    fd.write(chunk)\n",
    "            fd.close()\n",
    "            print(\"Sucessful to download\" + \" \" + file_name)\n",
    "    #第一次获取批量数据时执行这个方法。注：以后更新时也执行这个方法可以设置pagenum一般设置3到5页视自己需求\n",
    "    #params: pagenum第一次获取的页数\n",
    "    def getpicture(self,pagenum=100):\n",
    "        cur = self.conn.cursor()\n",
    "        for i in range(1,pagenum):\n",
    "            #匹配页面值\n",
    "            compile = re.findall(r'page=(.+?)&',self.url)[0]\n",
    "            url = self.url.replace(compile,str(i),1)\n",
    "            #返回json数据\n",
    "            contents = requests.get(url).json()\n",
    "            for content in contents:\n",
    "                #获取图片id\n",
    "                picid = content['id']\n",
    "                #获取星星数\n",
    "                star = str(content['likes'])\n",
    "                #获取图片链接\n",
    "                link = content['urls']['full']\n",
    "                try:\n",
    "                    #构建星星文件夹\n",
    "                    filepath = os.path.join(self.root,str(star))\n",
    "                    os.makedirs(filepath)                  \n",
    "                except:\n",
    "                    pass\n",
    "                #构建文件路径\n",
    "                file_name = os.path.join(filepath,picid+'.jpg')\n",
    "                self.download_pic(file_name,link)\n",
    "                sql = \"insert into picture(file_link,file_path) values(?,?)\"\n",
    "                params = (link,file_name)\n",
    "                cur.execute(sql,params) "
   ]
  },
  {
   "cell_type": "code",
   "execution_count": null,
   "metadata": {
    "scrolled": true
   },
   "outputs": [
    {
     "name": "stdout",
     "output_type": "stream",
     "text": [
      "已经创建数据表picture\n",
      "Sucessful to download /Users/wangqiang/anaconda_code/picture/37/cXJCpV2Jv1Y.jpg\n",
      "Sucessful to download /Users/wangqiang/anaconda_code/picture/118/_UvMF801xbM.jpg\n",
      "Sucessful to download /Users/wangqiang/anaconda_code/picture/137/V2V8ciqJbW0.jpg\n",
      "Sucessful to download /Users/wangqiang/anaconda_code/picture/77/jLWlA1HQMbE.jpg\n",
      "Sucessful to download /Users/wangqiang/anaconda_code/picture/21/01D-sp3AoBo.jpg\n",
      "Sucessful to download /Users/wangqiang/anaconda_code/picture/30/MdtrAEY5-Bg.jpg\n",
      "Sucessful to download /Users/wangqiang/anaconda_code/picture/145/QputIByOdAY.jpg\n",
      "Sucessful to download /Users/wangqiang/anaconda_code/picture/33/VMuexnehUfg.jpg\n",
      "Sucessful to download /Users/wangqiang/anaconda_code/picture/65/rvTqS27cyRM.jpg\n",
      "Sucessful to download /Users/wangqiang/anaconda_code/picture/19/PhbI-wphxtw.jpg\n",
      "Sucessful to download /Users/wangqiang/anaconda_code/picture/82/7gkjmfyl2OM.jpg\n",
      "Sucessful to download /Users/wangqiang/anaconda_code/picture/71/X2R7VLGAPfI.jpg\n",
      "Sucessful to download /Users/wangqiang/anaconda_code/picture/31/GxTu93WQ9yQ.jpg\n",
      "Sucessful to download /Users/wangqiang/anaconda_code/picture/52/tDU3RElJt3Y.jpg\n",
      "Sucessful to download /Users/wangqiang/anaconda_code/picture/24/fBs19NAz3sw.jpg\n",
      "Sucessful to download /Users/wangqiang/anaconda_code/picture/59/72vYm4Q3dCg.jpg\n"
     ]
    }
   ],
   "source": [
    "if __name__=='__main__':\n",
    "    p = picturecollect()\n",
    "    p.getpicture()"
   ]
  },
  {
   "cell_type": "code",
   "execution_count": null,
   "metadata": {},
   "outputs": [],
   "source": []
  },
  {
   "cell_type": "code",
   "execution_count": null,
   "metadata": {},
   "outputs": [],
   "source": []
  }
 ],
 "metadata": {
  "kernelspec": {
   "display_name": "Python 3",
   "language": "python",
   "name": "python3"
  },
  "language_info": {
   "codemirror_mode": {
    "name": "ipython",
    "version": 3
   },
   "file_extension": ".py",
   "mimetype": "text/x-python",
   "name": "python",
   "nbconvert_exporter": "python",
   "pygments_lexer": "ipython3",
   "version": "3.6.5"
  }
 },
 "nbformat": 4,
 "nbformat_minor": 2
}
