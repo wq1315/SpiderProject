{
 "cells": [
  {
   "cell_type": "code",
   "execution_count": 9,
   "metadata": {},
   "outputs": [],
   "source": [
    "import requests\n",
    "from bs4 import BeautifulSoup\n",
    "import re"
   ]
  },
  {
   "cell_type": "code",
   "execution_count": 5,
   "metadata": {},
   "outputs": [],
   "source": [
    "url = 'https://www.autohome.com.cn/car/'\n",
    "header = {\n",
    "'Referer':'https://www.autohome.com.cn/car/',\n",
    "'Upgrade-Insecure-Requests':'1',\n",
    "'User-Agent':'Mozilla/5.0 (Windows NT 6.1) AppleWebKit/537.36 (KHTML, like Gecko) Chrome/58.0.3029.110 Safari/537.36'\n",
    "}\n",
    "content = requests.get(url,headers=header).content"
   ]
  },
  {
   "cell_type": "code",
   "execution_count": 6,
   "metadata": {},
   "outputs": [
    {
     "name": "stderr",
     "output_type": "stream",
     "text": [
      "Some characters could not be decoded, and were replaced with REPLACEMENT CHARACTER.\n"
     ]
    }
   ],
   "source": [
    "soup = BeautifulSoup(content,\"html.parser\")\n"
   ]
  },
  {
   "cell_type": "code",
   "execution_count": 14,
   "metadata": {},
   "outputs": [
    {
     "name": "stdout",
     "output_type": "stream",
     "text": [
      "<li id=\"s3170\">\n",
      "<h4><a href=\"//www.autohome.com.cn/3170/#levelsource=000000000_0&amp;pvareaid=101594\">奥迪A3</a></h4><div>指导价：<a class=\"red\" href=\"//www.autohome.com.cn/3170/price.html#pvareaid=101446\">19.10-25.62万</a></div><div><a href=\"//car.autohome.com.cn/price/series-3170.html#pvareaid=103446\">报价</a> <a href=\"//car.autohome.com.cn/pic/series/3170.html#pvareaid=103448\" id=\"atk_3170\">图库</a> <a class=\"js-che168link\" data-value=\"3170\" href=\"//www.che168.com/china/series3170/\">二手车</a> <a href=\"//club.autohome.com.cn/bbs/forum-c-3170-1.html#pvareaid=103447\">论坛</a> <a href=\"//k.autohome.com.cn/3170/#pvareaid=103459\">口碑</a></div>\n",
      "</li>\n"
     ]
    }
   ],
   "source": [
    "for li in soup.find_all('li',attrs={'id':re.compile('s\\d+')}):\n",
    "    print(li)\n",
    "    breakroot"
   ]
  },
  {
   "cell_type": "code",
   "execution_count": null,
   "metadata": {},
   "outputs": [],
   "source": []
  }
 ],
 "metadata": {
  "kernelspec": {
   "display_name": "Python 3",
   "language": "python",
   "name": "python3"
  },
  "language_info": {
   "codemirror_mode": {
    "name": "ipython",
    "version": 3
   },
   "file_extension": ".py",
   "mimetype": "text/x-python",
   "name": "python",
   "nbconvert_exporter": "python",
   "pygments_lexer": "ipython3",
   "version": "3.6.5"
  }
 },
 "nbformat": 4,
 "nbformat_minor": 2
}
